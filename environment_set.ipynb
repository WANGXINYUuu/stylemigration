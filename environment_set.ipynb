{
 "cells": [
  {
   "attachments": {},
   "cell_type": "markdown",
   "metadata": {},
   "source": [
    "### 安装配置本项目环境——使用MMGeneration环境\n",
    "感谢开源人工智能算法体系OpenMMLab(OpenMMLab主页: https://openmmlab.com/)提供的模型工具箱, 本项目基于MMGeneration环境对Cyclegan模型(论文地址: https://arxiv.org/abs/1703.10593)进行运用，探索游戏画面风格迁移的效果，通过自制数据集训练得到新的cyclegan模型，并基于此模型对堡垒之夜(Fortnite)和绝地求生(PUBG)两款游戏进行了运用。"
   ]
  },
  {
   "attachments": {},
   "cell_type": "markdown",
   "metadata": {},
   "source": [
    "云GPU环境参数: GPU A4000，Python v3.7.10，PyTorch v1.10.1\n",
    "\n",
    "代码在以下环境测试: \n",
    "+ 上述云GPU环境\n",
    "+ 本地个人PC GPU 3070Ti Python v3.7.10, PyTorch v1.10.1 Ubuntu 22.04.2 LTS"
   ]
  },
  {
   "cell_type": "code",
   "execution_count": 2,
   "metadata": {},
   "outputs": [
    {
     "name": "stdout",
     "output_type": "stream",
     "text": [
      "Looking in links: https://download.pytorch.org/whl/cu113/torch_stable.html\n",
      "Requirement already satisfied: torch==1.10.1+cu113 in /home/wxy/miniconda3/envs/style/lib/python3.7/site-packages (1.10.1+cu113)\n",
      "Requirement already satisfied: torchvision==0.11.2+cu113 in /home/wxy/miniconda3/envs/style/lib/python3.7/site-packages (0.11.2+cu113)\n",
      "Requirement already satisfied: torchaudio==0.10.1+cu113 in /home/wxy/miniconda3/envs/style/lib/python3.7/site-packages (0.10.1+cu113)\n",
      "Requirement already satisfied: typing-extensions in /home/wxy/miniconda3/envs/style/lib/python3.7/site-packages (from torch==1.10.1+cu113) (4.5.0)\n",
      "Requirement already satisfied: numpy in /home/wxy/miniconda3/envs/style/lib/python3.7/site-packages (from torchvision==0.11.2+cu113) (1.21.6)\n",
      "Requirement already satisfied: pillow!=8.3.0,>=5.3.0 in /home/wxy/miniconda3/envs/style/lib/python3.7/site-packages (from torchvision==0.11.2+cu113) (9.5.0)\n"
     ]
    }
   ],
   "source": [
    "# 安装Pytorch\n",
    "!pip3 install torch==1.10.1+cu113 torchvision==0.11.2+cu113 torchaudio==0.10.1+cu113 -f https://download.pytorch.org/whl/cu113/torch_stable.html"
   ]
  },
  {
   "cell_type": "code",
   "execution_count": 3,
   "metadata": {},
   "outputs": [
    {
     "name": "stdout",
     "output_type": "stream",
     "text": [
      "Looking in links: https://download.openmmlab.com/mmcv/dist/cu113/torch1.10.0/index.html\n",
      "Requirement already satisfied: mmcv-full==1.7.0 in /home/wxy/miniconda3/envs/style/lib/python3.7/site-packages (1.7.0)\n",
      "Requirement already satisfied: numpy in /home/wxy/miniconda3/envs/style/lib/python3.7/site-packages (from mmcv-full==1.7.0) (1.21.6)\n",
      "Requirement already satisfied: pyyaml in /home/wxy/miniconda3/envs/style/lib/python3.7/site-packages (from mmcv-full==1.7.0) (6.0)\n",
      "Requirement already satisfied: addict in /home/wxy/miniconda3/envs/style/lib/python3.7/site-packages (from mmcv-full==1.7.0) (2.4.0)\n",
      "Requirement already satisfied: opencv-python>=3 in /home/wxy/miniconda3/envs/style/lib/python3.7/site-packages (from mmcv-full==1.7.0) (4.7.0.72)\n",
      "Requirement already satisfied: yapf in /home/wxy/miniconda3/envs/style/lib/python3.7/site-packages (from mmcv-full==1.7.0) (0.33.0)\n",
      "Requirement already satisfied: Pillow in /home/wxy/miniconda3/envs/style/lib/python3.7/site-packages (from mmcv-full==1.7.0) (9.5.0)\n",
      "Requirement already satisfied: packaging in /home/wxy/miniconda3/envs/style/lib/python3.7/site-packages (from mmcv-full==1.7.0) (23.1)\n",
      "Requirement already satisfied: tomli>=2.0.1 in /home/wxy/miniconda3/envs/style/lib/python3.7/site-packages (from yapf->mmcv-full==1.7.0) (2.0.1)\n"
     ]
    }
   ],
   "source": [
    "# 安装mmcv-full\n",
    "!pip3 install mmcv-full==1.7.0 -f https://download.openmmlab.com/mmcv/dist/cu113/torch1.10.0/index.html"
   ]
  },
  {
   "cell_type": "code",
   "execution_count": 4,
   "metadata": {},
   "outputs": [
    {
     "name": "stdout",
     "output_type": "stream",
     "text": [
      "Looking in indexes: https://pypi.tuna.tsinghua.edu.cn/simple\n",
      "Collecting ipywidgets\n",
      "  Downloading https://pypi.tuna.tsinghua.edu.cn/packages/50/7d/2c8b7bba2b1c2b5d1299f22fa7853f09b573c84e63b62870c13a6ec11990/ipywidgets-8.0.6-py3-none-any.whl (138 kB)\n",
      "\u001b[2K     \u001b[90m━━━━━━━━━━━━━━━━━━━━━━━━━━━━━━━━━━━━━━━\u001b[0m \u001b[32m138.3/138.3 kB\u001b[0m \u001b[31m1.7 MB/s\u001b[0m eta \u001b[36m0:00:00\u001b[0ma \u001b[36m0:00:01\u001b[0m\n",
      "\u001b[?25hRequirement already satisfied: tqdm in /home/wxy/miniconda3/envs/style/lib/python3.7/site-packages (4.65.0)\n",
      "Collecting imageio-ffmpeg\n",
      "  Downloading https://pypi.tuna.tsinghua.edu.cn/packages/dc/3f/fc9a0345a0ef2d9596c3d3d9549ac72377ea97c289abcf3c96f0821c3072/imageio_ffmpeg-0.4.8-py3-none-manylinux2010_x86_64.whl (26.9 MB)\n",
      "\u001b[2K     \u001b[90m━━━━━━━━━━━━━━━━━━━━━━━━━━━━━━━━━━━━━━━━\u001b[0m \u001b[32m26.9/26.9 MB\u001b[0m \u001b[31m3.7 MB/s\u001b[0m eta \u001b[36m0:00:00\u001b[0m00:01\u001b[0m00:01\u001b[0m\n",
      "\u001b[?25hRequirement already satisfied: ninja in /home/wxy/miniconda3/envs/style/lib/python3.7/site-packages (1.11.1)\n",
      "Requirement already satisfied: matplotlib in /home/wxy/miniconda3/envs/style/lib/python3.7/site-packages (3.5.3)\n",
      "Requirement already satisfied: numpy in /home/wxy/miniconda3/envs/style/lib/python3.7/site-packages (1.21.6)\n",
      "Requirement already satisfied: opencv-python in /home/wxy/miniconda3/envs/style/lib/python3.7/site-packages (4.7.0.72)\n",
      "Requirement already satisfied: prettytable in /home/wxy/miniconda3/envs/style/lib/python3.7/site-packages (3.7.0)\n",
      "Requirement already satisfied: ipykernel>=4.5.1 in /home/wxy/miniconda3/envs/style/lib/python3.7/site-packages (from ipywidgets) (5.5.5)\n",
      "Requirement already satisfied: ipython>=6.1.0 in /home/wxy/miniconda3/envs/style/lib/python3.7/site-packages (from ipywidgets) (7.33.0)\n",
      "Collecting jupyterlab-widgets~=3.0.7\n",
      "  Downloading https://pypi.tuna.tsinghua.edu.cn/packages/46/98/e7ce879b7b5d4871b80e291be967d22e5e66fa43474c476a95fe6231f50d/jupyterlab_widgets-3.0.7-py3-none-any.whl (198 kB)\n",
      "\u001b[2K     \u001b[90m━━━━━━━━━━━━━━━━━━━━━━━━━━━━━━━━━━━━━━━\u001b[0m \u001b[32m198.2/198.2 kB\u001b[0m \u001b[31m3.9 MB/s\u001b[0m eta \u001b[36m0:00:00\u001b[0ma \u001b[36m0:00:01\u001b[0m\n",
      "\u001b[?25hRequirement already satisfied: traitlets>=4.3.1 in /home/wxy/miniconda3/envs/style/lib/python3.7/site-packages (from ipywidgets) (5.9.0)\n",
      "Collecting widgetsnbextension~=4.0.7\n",
      "  Downloading https://pypi.tuna.tsinghua.edu.cn/packages/2e/f0/6e3a0d9c1ef015322cad1dd2191c338349b41151e4dc5e7ae984700c9dd2/widgetsnbextension-4.0.7-py3-none-any.whl (2.1 MB)\n",
      "\u001b[2K     \u001b[90m━━━━━━━━━━━━━━━━━━━━━━━━━━━━━━━━━━━━━━━━\u001b[0m \u001b[32m2.1/2.1 MB\u001b[0m \u001b[31m4.0 MB/s\u001b[0m eta \u001b[36m0:00:00\u001b[0m00:01\u001b[0m00:01\u001b[0m\n",
      "\u001b[?25hRequirement already satisfied: packaging>=20.0 in /home/wxy/miniconda3/envs/style/lib/python3.7/site-packages (from matplotlib) (23.1)\n",
      "Requirement already satisfied: pyparsing>=2.2.1 in /home/wxy/miniconda3/envs/style/lib/python3.7/site-packages (from matplotlib) (3.0.9)\n",
      "Requirement already satisfied: cycler>=0.10 in /home/wxy/miniconda3/envs/style/lib/python3.7/site-packages (from matplotlib) (0.11.0)\n",
      "Requirement already satisfied: python-dateutil>=2.7 in /home/wxy/miniconda3/envs/style/lib/python3.7/site-packages (from matplotlib) (2.8.2)\n",
      "Requirement already satisfied: kiwisolver>=1.0.1 in /home/wxy/miniconda3/envs/style/lib/python3.7/site-packages (from matplotlib) (1.4.4)\n",
      "Requirement already satisfied: fonttools>=4.22.0 in /home/wxy/miniconda3/envs/style/lib/python3.7/site-packages (from matplotlib) (4.38.0)\n",
      "Requirement already satisfied: pillow>=6.2.0 in /home/wxy/miniconda3/envs/style/lib/python3.7/site-packages (from matplotlib) (9.5.0)\n",
      "Requirement already satisfied: importlib-metadata in /home/wxy/miniconda3/envs/style/lib/python3.7/site-packages (from prettytable) (4.2.0)\n",
      "Requirement already satisfied: wcwidth in /home/wxy/miniconda3/envs/style/lib/python3.7/site-packages (from prettytable) (0.2.6)\n",
      "Requirement already satisfied: jupyter-client in /home/wxy/miniconda3/envs/style/lib/python3.7/site-packages (from ipykernel>=4.5.1->ipywidgets) (5.3.4)\n",
      "Requirement already satisfied: tornado>=4.2 in /home/wxy/miniconda3/envs/style/lib/python3.7/site-packages (from ipykernel>=4.5.1->ipywidgets) (6.1)\n",
      "Requirement already satisfied: pickleshare in /home/wxy/miniconda3/envs/style/lib/python3.7/site-packages (from ipython>=6.1.0->ipywidgets) (0.7.5)\n",
      "Requirement already satisfied: prompt-toolkit!=3.0.0,!=3.0.1,<3.1.0,>=2.0.0 in /home/wxy/miniconda3/envs/style/lib/python3.7/site-packages (from ipython>=6.1.0->ipywidgets) (3.0.38)\n",
      "Requirement already satisfied: pygments in /home/wxy/miniconda3/envs/style/lib/python3.7/site-packages (from ipython>=6.1.0->ipywidgets) (2.15.1)\n",
      "Requirement already satisfied: matplotlib-inline in /home/wxy/miniconda3/envs/style/lib/python3.7/site-packages (from ipython>=6.1.0->ipywidgets) (0.1.6)\n",
      "Requirement already satisfied: decorator in /home/wxy/miniconda3/envs/style/lib/python3.7/site-packages (from ipython>=6.1.0->ipywidgets) (5.1.1)\n",
      "Requirement already satisfied: setuptools>=18.5 in /home/wxy/miniconda3/envs/style/lib/python3.7/site-packages (from ipython>=6.1.0->ipywidgets) (65.6.3)\n",
      "Requirement already satisfied: jedi>=0.16 in /home/wxy/miniconda3/envs/style/lib/python3.7/site-packages (from ipython>=6.1.0->ipywidgets) (0.18.2)\n",
      "Requirement already satisfied: pexpect>4.3 in /home/wxy/miniconda3/envs/style/lib/python3.7/site-packages (from ipython>=6.1.0->ipywidgets) (4.8.0)\n",
      "Requirement already satisfied: backcall in /home/wxy/miniconda3/envs/style/lib/python3.7/site-packages (from ipython>=6.1.0->ipywidgets) (0.2.0)\n",
      "Requirement already satisfied: typing-extensions in /home/wxy/miniconda3/envs/style/lib/python3.7/site-packages (from kiwisolver>=1.0.1->matplotlib) (4.5.0)\n",
      "Requirement already satisfied: six>=1.5 in /home/wxy/miniconda3/envs/style/lib/python3.7/site-packages (from python-dateutil>=2.7->matplotlib) (1.16.0)\n",
      "Requirement already satisfied: zipp>=0.5 in /home/wxy/miniconda3/envs/style/lib/python3.7/site-packages (from importlib-metadata->prettytable) (3.15.0)\n",
      "Requirement already satisfied: parso<0.9.0,>=0.8.0 in /home/wxy/miniconda3/envs/style/lib/python3.7/site-packages (from jedi>=0.16->ipython>=6.1.0->ipywidgets) (0.8.3)\n",
      "Requirement already satisfied: ptyprocess>=0.5 in /home/wxy/miniconda3/envs/style/lib/python3.7/site-packages (from pexpect>4.3->ipython>=6.1.0->ipywidgets) (0.7.0)\n",
      "Requirement already satisfied: jupyter-core>=4.6.0 in /home/wxy/miniconda3/envs/style/lib/python3.7/site-packages (from jupyter-client->ipykernel>=4.5.1->ipywidgets) (4.12.0)\n",
      "Requirement already satisfied: pyzmq>=13 in /home/wxy/miniconda3/envs/style/lib/python3.7/site-packages (from jupyter-client->ipykernel>=4.5.1->ipywidgets) (19.0.2)\n",
      "Installing collected packages: widgetsnbextension, jupyterlab-widgets, imageio-ffmpeg, ipywidgets\n",
      "Successfully installed imageio-ffmpeg-0.4.8 ipywidgets-8.0.6 jupyterlab-widgets-3.0.7 widgetsnbextension-4.0.7\n"
     ]
    }
   ],
   "source": [
    "# 安装其他工具包\n",
    "!pip3 install ipywidgets tqdm imageio-ffmpeg ninja matplotlib numpy opencv-python prettytable -i https://pypi.tuna.tsinghua.edu.cn/simple"
   ]
  },
  {
   "cell_type": "code",
   "execution_count": 5,
   "metadata": {},
   "outputs": [
    {
     "name": "stdout",
     "output_type": "stream",
     "text": [
      "Requirement already satisfied: mmcls in /home/wxy/miniconda3/envs/style/lib/python3.7/site-packages (from -r requirements/runtime.txt (line 1)) (0.25.0)\n",
      "Requirement already satisfied: ninja in /home/wxy/miniconda3/envs/style/lib/python3.7/site-packages (from -r requirements/runtime.txt (line 2)) (1.11.1)\n",
      "Requirement already satisfied: numpy in /home/wxy/miniconda3/envs/style/lib/python3.7/site-packages (from -r requirements/runtime.txt (line 3)) (1.21.6)\n",
      "Requirement already satisfied: prettytable in /home/wxy/miniconda3/envs/style/lib/python3.7/site-packages (from -r requirements/runtime.txt (line 4)) (3.7.0)\n",
      "Requirement already satisfied: requests in /home/wxy/miniconda3/envs/style/lib/python3.7/site-packages (from -r requirements/runtime.txt (line 5)) (2.28.2)\n",
      "Requirement already satisfied: scikit-image in /home/wxy/miniconda3/envs/style/lib/python3.7/site-packages (from -r requirements/runtime.txt (line 6)) (0.19.3)\n",
      "Requirement already satisfied: scipy in /home/wxy/miniconda3/envs/style/lib/python3.7/site-packages (from -r requirements/runtime.txt (line 7)) (1.7.3)\n",
      "Requirement already satisfied: tqdm in /home/wxy/miniconda3/envs/style/lib/python3.7/site-packages (from -r requirements/runtime.txt (line 8)) (4.65.0)\n",
      "Requirement already satisfied: yapf in /home/wxy/miniconda3/envs/style/lib/python3.7/site-packages (from -r requirements/runtime.txt (line 9)) (0.33.0)\n",
      "Requirement already satisfied: coverage<7.0.0 in /home/wxy/miniconda3/envs/style/lib/python3.7/site-packages (from -r requirements/tests.txt (line 1)) (6.5.0)\n",
      "Requirement already satisfied: flake8 in /home/wxy/miniconda3/envs/style/lib/python3.7/site-packages (from -r requirements/tests.txt (line 3)) (5.0.4)\n",
      "Requirement already satisfied: interrogate in /home/wxy/miniconda3/envs/style/lib/python3.7/site-packages (from -r requirements/tests.txt (line 4)) (1.5.0)\n",
      "Requirement already satisfied: isort==4.3.21 in /home/wxy/miniconda3/envs/style/lib/python3.7/site-packages (from -r requirements/tests.txt (line 5)) (4.3.21)\n",
      "Requirement already satisfied: pytest in /home/wxy/miniconda3/envs/style/lib/python3.7/site-packages (from -r requirements/tests.txt (line 6)) (7.3.1)\n",
      "Requirement already satisfied: pytest-runner in /home/wxy/miniconda3/envs/style/lib/python3.7/site-packages (from -r requirements/tests.txt (line 7)) (6.0.0)\n",
      "Requirement already satisfied: packaging in /home/wxy/miniconda3/envs/style/lib/python3.7/site-packages (from mmcls->-r requirements/runtime.txt (line 1)) (23.1)\n",
      "Requirement already satisfied: matplotlib>=3.1.0 in /home/wxy/miniconda3/envs/style/lib/python3.7/site-packages (from mmcls->-r requirements/runtime.txt (line 1)) (3.5.3)\n",
      "Requirement already satisfied: importlib-metadata in /home/wxy/miniconda3/envs/style/lib/python3.7/site-packages (from prettytable->-r requirements/runtime.txt (line 4)) (4.2.0)\n",
      "Requirement already satisfied: wcwidth in /home/wxy/miniconda3/envs/style/lib/python3.7/site-packages (from prettytable->-r requirements/runtime.txt (line 4)) (0.2.6)\n",
      "Requirement already satisfied: urllib3<1.27,>=1.21.1 in /home/wxy/miniconda3/envs/style/lib/python3.7/site-packages (from requests->-r requirements/runtime.txt (line 5)) (1.26.15)\n",
      "Requirement already satisfied: charset-normalizer<4,>=2 in /home/wxy/miniconda3/envs/style/lib/python3.7/site-packages (from requests->-r requirements/runtime.txt (line 5)) (3.1.0)\n",
      "Requirement already satisfied: certifi>=2017.4.17 in /home/wxy/miniconda3/envs/style/lib/python3.7/site-packages (from requests->-r requirements/runtime.txt (line 5)) (2022.12.7)\n",
      "Requirement already satisfied: idna<4,>=2.5 in /home/wxy/miniconda3/envs/style/lib/python3.7/site-packages (from requests->-r requirements/runtime.txt (line 5)) (3.4)\n",
      "Requirement already satisfied: networkx>=2.2 in /home/wxy/miniconda3/envs/style/lib/python3.7/site-packages (from scikit-image->-r requirements/runtime.txt (line 6)) (2.6.3)\n",
      "Requirement already satisfied: PyWavelets>=1.1.1 in /home/wxy/miniconda3/envs/style/lib/python3.7/site-packages (from scikit-image->-r requirements/runtime.txt (line 6)) (1.3.0)\n",
      "Requirement already satisfied: pillow!=7.1.0,!=7.1.1,!=8.3.0,>=6.1.0 in /home/wxy/miniconda3/envs/style/lib/python3.7/site-packages (from scikit-image->-r requirements/runtime.txt (line 6)) (9.5.0)\n",
      "Requirement already satisfied: tifffile>=2019.7.26 in /home/wxy/miniconda3/envs/style/lib/python3.7/site-packages (from scikit-image->-r requirements/runtime.txt (line 6)) (2021.11.2)\n",
      "Requirement already satisfied: imageio>=2.4.1 in /home/wxy/miniconda3/envs/style/lib/python3.7/site-packages (from scikit-image->-r requirements/runtime.txt (line 6)) (2.28.0)\n",
      "Requirement already satisfied: tomli>=2.0.1 in /home/wxy/miniconda3/envs/style/lib/python3.7/site-packages (from yapf->-r requirements/runtime.txt (line 9)) (2.0.1)\n",
      "Requirement already satisfied: pycodestyle<2.10.0,>=2.9.0 in /home/wxy/miniconda3/envs/style/lib/python3.7/site-packages (from flake8->-r requirements/tests.txt (line 3)) (2.9.1)\n",
      "Requirement already satisfied: mccabe<0.8.0,>=0.7.0 in /home/wxy/miniconda3/envs/style/lib/python3.7/site-packages (from flake8->-r requirements/tests.txt (line 3)) (0.7.0)\n",
      "Requirement already satisfied: pyflakes<2.6.0,>=2.5.0 in /home/wxy/miniconda3/envs/style/lib/python3.7/site-packages (from flake8->-r requirements/tests.txt (line 3)) (2.5.0)\n",
      "Requirement already satisfied: toml in /home/wxy/miniconda3/envs/style/lib/python3.7/site-packages (from interrogate->-r requirements/tests.txt (line 4)) (0.10.2)\n",
      "Requirement already satisfied: tabulate in /home/wxy/miniconda3/envs/style/lib/python3.7/site-packages (from interrogate->-r requirements/tests.txt (line 4)) (0.9.0)\n",
      "Requirement already satisfied: click>=7.1 in /home/wxy/miniconda3/envs/style/lib/python3.7/site-packages (from interrogate->-r requirements/tests.txt (line 4)) (8.1.3)\n",
      "Requirement already satisfied: py in /home/wxy/miniconda3/envs/style/lib/python3.7/site-packages (from interrogate->-r requirements/tests.txt (line 4)) (1.11.0)\n",
      "Requirement already satisfied: attrs in /home/wxy/miniconda3/envs/style/lib/python3.7/site-packages (from interrogate->-r requirements/tests.txt (line 4)) (23.1.0)\n",
      "Requirement already satisfied: colorama in /home/wxy/miniconda3/envs/style/lib/python3.7/site-packages (from interrogate->-r requirements/tests.txt (line 4)) (0.4.6)\n",
      "Requirement already satisfied: pluggy<2.0,>=0.12 in /home/wxy/miniconda3/envs/style/lib/python3.7/site-packages (from pytest->-r requirements/tests.txt (line 6)) (1.0.0)\n",
      "Requirement already satisfied: exceptiongroup>=1.0.0rc8 in /home/wxy/miniconda3/envs/style/lib/python3.7/site-packages (from pytest->-r requirements/tests.txt (line 6)) (1.1.1)\n",
      "Requirement already satisfied: iniconfig in /home/wxy/miniconda3/envs/style/lib/python3.7/site-packages (from pytest->-r requirements/tests.txt (line 6)) (2.0.0)\n",
      "Requirement already satisfied: typing-extensions>=3.6.4 in /home/wxy/miniconda3/envs/style/lib/python3.7/site-packages (from importlib-metadata->prettytable->-r requirements/runtime.txt (line 4)) (4.5.0)\n",
      "Requirement already satisfied: zipp>=0.5 in /home/wxy/miniconda3/envs/style/lib/python3.7/site-packages (from importlib-metadata->prettytable->-r requirements/runtime.txt (line 4)) (3.15.0)\n",
      "Requirement already satisfied: fonttools>=4.22.0 in /home/wxy/miniconda3/envs/style/lib/python3.7/site-packages (from matplotlib>=3.1.0->mmcls->-r requirements/runtime.txt (line 1)) (4.38.0)\n",
      "Requirement already satisfied: pyparsing>=2.2.1 in /home/wxy/miniconda3/envs/style/lib/python3.7/site-packages (from matplotlib>=3.1.0->mmcls->-r requirements/runtime.txt (line 1)) (3.0.9)\n",
      "Requirement already satisfied: kiwisolver>=1.0.1 in /home/wxy/miniconda3/envs/style/lib/python3.7/site-packages (from matplotlib>=3.1.0->mmcls->-r requirements/runtime.txt (line 1)) (1.4.4)\n",
      "Requirement already satisfied: cycler>=0.10 in /home/wxy/miniconda3/envs/style/lib/python3.7/site-packages (from matplotlib>=3.1.0->mmcls->-r requirements/runtime.txt (line 1)) (0.11.0)\n",
      "Requirement already satisfied: python-dateutil>=2.7 in /home/wxy/miniconda3/envs/style/lib/python3.7/site-packages (from matplotlib>=3.1.0->mmcls->-r requirements/runtime.txt (line 1)) (2.8.2)\n",
      "Requirement already satisfied: six>=1.5 in /home/wxy/miniconda3/envs/style/lib/python3.7/site-packages (from python-dateutil>=2.7->matplotlib>=3.1.0->mmcls->-r requirements/runtime.txt (line 1)) (1.16.0)\n",
      "\n",
      "Usage:   \n",
      "  pip3 install [options] <requirement specifier> [package-index-options] ...\n",
      "  pip3 install [options] -r <requirements file> [package-index-options] ...\n",
      "  pip3 install [options] [-e] <vcs project url> ...\n",
      "  pip3 install [options] [-e] <local project path> ...\n",
      "  pip3 install [options] <archive url/path> ...\n",
      "\n",
      "-e option requires 1 argument\n"
     ]
    }
   ],
   "source": [
    "# 安装本代码所需其他环境\n",
    "!pip3 install -r requirements.txt\n",
    "!pip3 install -v -e"
   ]
  },
  {
   "attachments": {},
   "cell_type": "markdown",
   "metadata": {},
   "source": [
    "检查环境是否安装成功，若下面代码输出\"mmgen载入成功\"，则说明环境配置完成"
   ]
  },
  {
   "cell_type": "code",
   "execution_count": 7,
   "metadata": {},
   "outputs": [
    {
     "name": "stderr",
     "output_type": "stream",
     "text": [
      "/home/wxy/miniconda3/envs/style/lib/python3.7/site-packages/mmcv/__init__.py:21: UserWarning: On January 1, 2023, MMCV will release v2.0.0, in which it will remove components related to the training process and add a data transformation module. In addition, it will rename the package names mmcv to mmcv-lite and mmcv-full to mmcv. See https://github.com/open-mmlab/mmcv/blob/master/docs/en/compatibility.md for more details.\n",
      "  'On January 1, 2023, MMCV will release v2.0.0, in which it will remove '\n"
     ]
    },
    {
     "name": "stdout",
     "output_type": "stream",
     "text": [
      "mmgen载入成功\n"
     ]
    }
   ],
   "source": [
    "import torch, torchvision\n",
    "import mmcv\n",
    "from mmgen.apis import init_model, sample_unconditional_model\n",
    "print('mmgen载入成功')"
   ]
  }
 ],
 "metadata": {
  "kernelspec": {
   "display_name": "base",
   "language": "python",
   "name": "python3"
  },
  "language_info": {
   "codemirror_mode": {
    "name": "ipython",
    "version": 3
   },
   "file_extension": ".py",
   "mimetype": "text/x-python",
   "name": "python",
   "nbconvert_exporter": "python",
   "pygments_lexer": "ipython3",
   "version": "3.7.10"
  },
  "orig_nbformat": 4
 },
 "nbformat": 4,
 "nbformat_minor": 2
}
